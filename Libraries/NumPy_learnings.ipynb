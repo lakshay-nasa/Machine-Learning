{
 "cells": [
  {
   "cell_type": "markdown",
   "id": "6be6b87d-5605-41f1-98bf-6327c2cbe824",
   "metadata": {},
   "source": [
    "# NumPy Learnings"
   ]
  },
  {
   "cell_type": "code",
   "execution_count": 1,
   "id": "04be1b8c-85f4-404e-9c08-dc84ffdffb1f",
   "metadata": {},
   "outputs": [],
   "source": [
    "# %pip install pandas"
   ]
  },
  {
   "cell_type": "code",
   "execution_count": 2,
   "id": "b8a1356f-dd69-48d4-8c19-b1c20e147dd1",
   "metadata": {},
   "outputs": [],
   "source": [
    "import pandas"
   ]
  }
 ],
 "metadata": {
  "kernelspec": {
   "display_name": "Python 3 (ipykernel)",
   "language": "python",
   "name": "python3"
  },
  "language_info": {
   "codemirror_mode": {
    "name": "ipython",
    "version": 3
   },
   "file_extension": ".py",
   "mimetype": "text/x-python",
   "name": "python",
   "nbconvert_exporter": "python",
   "pygments_lexer": "ipython3",
   "version": "3.10.5"
  }
 },
 "nbformat": 4,
 "nbformat_minor": 5
}
