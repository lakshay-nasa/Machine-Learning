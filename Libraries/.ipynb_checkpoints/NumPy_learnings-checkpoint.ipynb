{
 "cells": [
  {
   "cell_type": "markdown",
   "id": "6be6b87d-5605-41f1-98bf-6327c2cbe824",
   "metadata": {},
   "source": [
    "# NumPy Learnings"
   ]
  },
  {
   "cell_type": "code",
   "execution_count": null,
   "id": "bfda7ea5-1b36-4b64-ac94-b483ee9aa547",
   "metadata": {},
   "outputs": [],
   "source": []
  }
 ],
 "metadata": {
  "kernelspec": {
   "display_name": "Python 3 (ipykernel)",
   "language": "python",
   "name": "python3"
  },
  "language_info": {
   "codemirror_mode": {
    "name": "ipython",
    "version": 3
   },
   "file_extension": ".py",
   "mimetype": "text/x-python",
   "name": "python",
   "nbconvert_exporter": "python",
   "pygments_lexer": "ipython3",
   "version": "3.10.5"
  }
 },
 "nbformat": 4,
 "nbformat_minor": 5
}
